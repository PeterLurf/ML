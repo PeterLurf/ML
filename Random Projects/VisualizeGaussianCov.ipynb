{
 "cells": [
  {
   "cell_type": "code",
   "execution_count": null,
   "metadata": {},
   "outputs": [
    {
     "data": {
      "application/vnd.jupyter.widget-view+json": {
       "model_id": "457459fa47a4499fa0931c9441c593c7",
       "version_major": 2,
       "version_minor": 0
      },
      "text/plain": [
       "interactive(children=(FloatSlider(value=0.0, description='mu_x', max=5.0, min=-5.0), FloatSlider(value=0.0, de…"
      ]
     },
     "metadata": {},
     "output_type": "display_data"
    },
    {
     "ename": "",
     "evalue": "",
     "output_type": "error",
     "traceback": [
      "\u001b[1;31mThe Kernel crashed while executing code in the current cell or a previous cell. \n",
      "\u001b[1;31mPlease review the code in the cell(s) to identify a possible cause of the failure. \n",
      "\u001b[1;31mClick <a href='https://aka.ms/vscodeJupyterKernelCrash'>here</a> for more info. \n",
      "\u001b[1;31mView Jupyter <a href='command:jupyter.viewOutput'>log</a> for further details."
     ]
    }
   ],
   "source": [
    "import numpy as np\n",
    "import matplotlib.pyplot as plt\n",
    "from mpl_toolkits.mplot3d import Axes3D  # Required for 3D plotting\n",
    "from ipywidgets import interact\n",
    "\n",
    "def plot_gaussian_3d(mu_x=0.0, mu_y=0.0, sigma_x=1.0, sigma_y=1.0, rho=0.0):\n",
    "    # Mean vector and covariance matrix\n",
    "    mu = np.array([mu_x, mu_y])\n",
    "    cov = np.array([[sigma_x**2, rho * sigma_x * sigma_y],\n",
    "                    [rho * sigma_x * sigma_y, sigma_y**2]])\n",
    "    \n",
    "    # Create a grid of values centered on the mean, spanning roughly ±4 standard deviations.\n",
    "    x = np.linspace(mu_x - 4 * sigma_x, mu_x + 4 * sigma_x, 100)\n",
    "    y = np.linspace(mu_y - 4 * sigma_y, mu_y + 4 * sigma_y, 100)\n",
    "    X, Y = np.meshgrid(x, y)\n",
    "    pos = np.dstack((X, Y))\n",
    "    \n",
    "    # Compute the Gaussian probability density function on the grid.\n",
    "    inv_cov = np.linalg.inv(cov)\n",
    "    diff = pos - mu\n",
    "    Z = np.exp(-0.5 * np.einsum('...i,ij,...j', diff, inv_cov, diff))\n",
    "    Z /= 2 * np.pi * np.sqrt(np.linalg.det(cov))\n",
    "    \n",
    "    # Create a 3D surface plot.\n",
    "    fig = plt.figure(figsize=(8, 6))\n",
    "    ax = fig.add_subplot(111, projection='3d')\n",
    "    surf = ax.plot_surface(X, Y, Z, cmap='viridis', edgecolor='none', antialiased=True)\n",
    "    ax.set_title('2D Gaussian Distribution (3D View)')\n",
    "    ax.set_xlabel('X')\n",
    "    ax.set_ylabel('Y')\n",
    "    ax.set_zlabel('Probability Density')\n",
    "    fig.colorbar(surf, shrink=0.5, aspect=5)\n",
    "    plt.show()\n",
    "\n",
    "# Create interactive sliders for the parameters.\n",
    "interact(plot_gaussian_3d,\n",
    "         mu_x=(-5.0, 5.0, 0.1),\n",
    "         mu_y=(-5.0, 5.0, 0.1),\n",
    "         sigma_x=(0.1, 5.0, 0.1),\n",
    "         sigma_y=(0.1, 5.0, 0.1),\n",
    "         rho=(-0.99, 0.99, 0.01));\n"
   ]
  },
  {
   "cell_type": "code",
   "execution_count": null,
   "metadata": {},
   "outputs": [],
   "source": []
  }
 ],
 "metadata": {
  "kernelspec": {
   "display_name": "Python 3",
   "language": "python",
   "name": "python3"
  },
  "language_info": {
   "codemirror_mode": {
    "name": "ipython",
    "version": 3
   },
   "file_extension": ".py",
   "mimetype": "text/x-python",
   "name": "python",
   "nbconvert_exporter": "python",
   "pygments_lexer": "ipython3",
   "version": "3.12.2"
  }
 },
 "nbformat": 4,
 "nbformat_minor": 2
}
